{
 "cells": [
  {
   "cell_type": "code",
   "execution_count": 1,
   "metadata": {},
   "outputs": [],
   "source": [
    "import VRPTW"
   ]
  },
  {
   "cell_type": "code",
   "execution_count": 2,
   "metadata": {},
   "outputs": [],
   "source": [
    "instance = VRPTW.readInstanceCVRPTW(\"VRPTW/C101.txt\")"
   ]
  },
  {
   "cell_type": "code",
   "execution_count": 3,
   "metadata": {},
   "outputs": [
    {
     "data": {
      "text/plain": [
       "{'instanceName': 'C101',\n",
       " 'vehNum': 25,\n",
       " 'vehCap': 200,\n",
       " 'nodes': {0: {'loc': (40.0, 50.0),\n",
       "   'demand': 0.0,\n",
       "   'tStart': 0.0,\n",
       "   'tEnd': 1236.0,\n",
       "   'serviceTime': 0.0},\n",
       "  1: {'loc': (45.0, 68.0),\n",
       "   'demand': 10.0,\n",
       "   'tStart': 912.0,\n",
       "   'tEnd': 967.0,\n",
       "   'serviceTime': 90.0},\n",
       "  2: {'loc': (45.0, 70.0),\n",
       "   'demand': 30.0,\n",
       "   'tStart': 825.0,\n",
       "   'tEnd': 870.0,\n",
       "   'serviceTime': 90.0},\n",
       "  3: {'loc': (42.0, 66.0),\n",
       "   'demand': 10.0,\n",
       "   'tStart': 65.0,\n",
       "   'tEnd': 146.0,\n",
       "   'serviceTime': 90.0},\n",
       "  4: {'loc': (42.0, 68.0),\n",
       "   'demand': 10.0,\n",
       "   'tStart': 727.0,\n",
       "   'tEnd': 782.0,\n",
       "   'serviceTime': 90.0},\n",
       "  5: {'loc': (42.0, 65.0),\n",
       "   'demand': 10.0,\n",
       "   'tStart': 15.0,\n",
       "   'tEnd': 67.0,\n",
       "   'serviceTime': 90.0},\n",
       "  6: {'loc': (40.0, 69.0),\n",
       "   'demand': 20.0,\n",
       "   'tStart': 621.0,\n",
       "   'tEnd': 702.0,\n",
       "   'serviceTime': 90.0},\n",
       "  7: {'loc': (40.0, 66.0),\n",
       "   'demand': 20.0,\n",
       "   'tStart': 170.0,\n",
       "   'tEnd': 225.0,\n",
       "   'serviceTime': 90.0},\n",
       "  8: {'loc': (38.0, 68.0),\n",
       "   'demand': 20.0,\n",
       "   'tStart': 255.0,\n",
       "   'tEnd': 324.0,\n",
       "   'serviceTime': 90.0},\n",
       "  9: {'loc': (38.0, 70.0),\n",
       "   'demand': 10.0,\n",
       "   'tStart': 534.0,\n",
       "   'tEnd': 605.0,\n",
       "   'serviceTime': 90.0},\n",
       "  10: {'loc': (35.0, 66.0),\n",
       "   'demand': 10.0,\n",
       "   'tStart': 357.0,\n",
       "   'tEnd': 410.0,\n",
       "   'serviceTime': 90.0},\n",
       "  11: {'loc': (35.0, 69.0),\n",
       "   'demand': 10.0,\n",
       "   'tStart': 448.0,\n",
       "   'tEnd': 505.0,\n",
       "   'serviceTime': 90.0},\n",
       "  12: {'loc': (25.0, 85.0),\n",
       "   'demand': 20.0,\n",
       "   'tStart': 652.0,\n",
       "   'tEnd': 721.0,\n",
       "   'serviceTime': 90.0},\n",
       "  13: {'loc': (22.0, 75.0),\n",
       "   'demand': 30.0,\n",
       "   'tStart': 30.0,\n",
       "   'tEnd': 92.0,\n",
       "   'serviceTime': 90.0},\n",
       "  14: {'loc': (22.0, 85.0),\n",
       "   'demand': 10.0,\n",
       "   'tStart': 567.0,\n",
       "   'tEnd': 620.0,\n",
       "   'serviceTime': 90.0},\n",
       "  15: {'loc': (20.0, 80.0),\n",
       "   'demand': 40.0,\n",
       "   'tStart': 384.0,\n",
       "   'tEnd': 429.0,\n",
       "   'serviceTime': 90.0},\n",
       "  16: {'loc': (20.0, 85.0),\n",
       "   'demand': 40.0,\n",
       "   'tStart': 475.0,\n",
       "   'tEnd': 528.0,\n",
       "   'serviceTime': 90.0},\n",
       "  17: {'loc': (18.0, 75.0),\n",
       "   'demand': 20.0,\n",
       "   'tStart': 99.0,\n",
       "   'tEnd': 148.0,\n",
       "   'serviceTime': 90.0},\n",
       "  18: {'loc': (15.0, 75.0),\n",
       "   'demand': 20.0,\n",
       "   'tStart': 179.0,\n",
       "   'tEnd': 254.0,\n",
       "   'serviceTime': 90.0},\n",
       "  19: {'loc': (15.0, 80.0),\n",
       "   'demand': 10.0,\n",
       "   'tStart': 278.0,\n",
       "   'tEnd': 345.0,\n",
       "   'serviceTime': 90.0},\n",
       "  20: {'loc': (30.0, 50.0),\n",
       "   'demand': 10.0,\n",
       "   'tStart': 10.0,\n",
       "   'tEnd': 73.0,\n",
       "   'serviceTime': 90.0},\n",
       "  21: {'loc': (30.0, 52.0),\n",
       "   'demand': 20.0,\n",
       "   'tStart': 914.0,\n",
       "   'tEnd': 965.0,\n",
       "   'serviceTime': 90.0},\n",
       "  22: {'loc': (28.0, 52.0),\n",
       "   'demand': 20.0,\n",
       "   'tStart': 812.0,\n",
       "   'tEnd': 883.0,\n",
       "   'serviceTime': 90.0},\n",
       "  23: {'loc': (28.0, 55.0),\n",
       "   'demand': 10.0,\n",
       "   'tStart': 732.0,\n",
       "   'tEnd': 777.0,\n",
       "   'serviceTime': 90.0},\n",
       "  24: {'loc': (25.0, 50.0),\n",
       "   'demand': 10.0,\n",
       "   'tStart': 65.0,\n",
       "   'tEnd': 144.0,\n",
       "   'serviceTime': 90.0},\n",
       "  25: {'loc': (25.0, 52.0),\n",
       "   'demand': 40.0,\n",
       "   'tStart': 169.0,\n",
       "   'tEnd': 224.0,\n",
       "   'serviceTime': 90.0}}}"
      ]
     },
     "execution_count": 3,
     "metadata": {},
     "output_type": "execute_result"
    }
   ],
   "source": [
    "instance"
   ]
  },
  {
   "cell_type": "code",
   "execution_count": 5,
   "metadata": {},
   "outputs": [
    {
     "ename": "KeyError",
     "evalue": "0",
     "output_type": "error",
     "traceback": [
      "\u001b[1;31m---------------------------------------------------------------------------\u001b[0m",
      "\u001b[1;31mKeyError\u001b[0m                                  Traceback (most recent call last)",
      "\u001b[1;32m<ipython-input-5-807b07d47951>\u001b[0m in \u001b[0;36m<module>\u001b[1;34m\u001b[0m\n\u001b[0;32m      3\u001b[0m     \u001b[0mdepotID\u001b[0m \u001b[1;33m=\u001b[0m \u001b[1;36m0\u001b[0m\u001b[1;33m,\u001b[0m\u001b[1;33m\u001b[0m\u001b[1;33m\u001b[0m\u001b[0m\n\u001b[0;32m      4\u001b[0m     \u001b[0mvehCap\u001b[0m \u001b[1;33m=\u001b[0m \u001b[0minstance\u001b[0m\u001b[1;33m[\u001b[0m\u001b[1;34m'vehCap'\u001b[0m\u001b[1;33m]\u001b[0m\u001b[1;33m,\u001b[0m\u001b[1;33m\u001b[0m\u001b[1;33m\u001b[0m\u001b[0m\n\u001b[1;32m----> 5\u001b[1;33m     vehNum = instance['vehNum'])\n\u001b[0m",
      "\u001b[1;32mD:\\workshops\\UB_INFORMS_Gurobi_Workshop\\5_VRPTW and Column Generation\\VRPTW.py\u001b[0m in \u001b[0;36mCVRPTW\u001b[1;34m(nodes, depotID, customerID, edges, vehCap, vehNum, cutoffTimeSub, cutoffTimeMas)\u001b[0m\n\u001b[0;32m     91\u001b[0m                         \u001b[0medges\u001b[0m\u001b[1;33m[\u001b[0m\u001b[0mi\u001b[0m\u001b[1;33m,\u001b[0m \u001b[0mj\u001b[0m\u001b[1;33m]\u001b[0m \u001b[1;33m=\u001b[0m \u001b[0mmath\u001b[0m\u001b[1;33m.\u001b[0m\u001b[0msqrt\u001b[0m\u001b[1;33m(\u001b[0m\u001b[1;33m(\u001b[0m\u001b[0mnodes\u001b[0m\u001b[1;33m[\u001b[0m\u001b[0mi\u001b[0m\u001b[1;33m]\u001b[0m\u001b[1;33m[\u001b[0m\u001b[1;34m'loc'\u001b[0m\u001b[1;33m]\u001b[0m\u001b[1;33m[\u001b[0m\u001b[1;36m0\u001b[0m\u001b[1;33m]\u001b[0m \u001b[1;33m-\u001b[0m \u001b[0mnodes\u001b[0m\u001b[1;33m[\u001b[0m\u001b[0mj\u001b[0m\u001b[1;33m]\u001b[0m\u001b[1;33m[\u001b[0m\u001b[1;34m'loc'\u001b[0m\u001b[1;33m]\u001b[0m\u001b[1;33m[\u001b[0m\u001b[1;36m0\u001b[0m\u001b[1;33m]\u001b[0m\u001b[1;33m)\u001b[0m \u001b[1;33m**\u001b[0m \u001b[1;36m2\u001b[0m \u001b[1;33m+\u001b[0m \u001b[1;33m(\u001b[0m\u001b[0mnodes\u001b[0m\u001b[1;33m[\u001b[0m\u001b[0mi\u001b[0m\u001b[1;33m]\u001b[0m\u001b[1;33m[\u001b[0m\u001b[1;34m'loc'\u001b[0m\u001b[1;33m]\u001b[0m\u001b[1;33m[\u001b[0m\u001b[1;36m1\u001b[0m\u001b[1;33m]\u001b[0m \u001b[1;33m-\u001b[0m \u001b[0mnodes\u001b[0m\u001b[1;33m[\u001b[0m\u001b[0mj\u001b[0m\u001b[1;33m]\u001b[0m\u001b[1;33m[\u001b[0m\u001b[1;34m'loc'\u001b[0m\u001b[1;33m]\u001b[0m\u001b[1;33m[\u001b[0m\u001b[1;36m1\u001b[0m\u001b[1;33m]\u001b[0m\u001b[1;33m)\u001b[0m \u001b[1;33m**\u001b[0m \u001b[1;36m2\u001b[0m\u001b[1;33m)\u001b[0m\u001b[1;33m\u001b[0m\u001b[1;33m\u001b[0m\u001b[0m\n\u001b[0;32m     92\u001b[0m             \u001b[1;32mfor\u001b[0m \u001b[0mi\u001b[0m \u001b[1;32min\u001b[0m \u001b[0mcustomerID\u001b[0m\u001b[1;33m:\u001b[0m\u001b[1;33m\u001b[0m\u001b[1;33m\u001b[0m\u001b[0m\n\u001b[1;32m---> 93\u001b[1;33m                 \u001b[0medges\u001b[0m\u001b[1;33m[\u001b[0m\u001b[0mdepotID\u001b[0m\u001b[1;33m,\u001b[0m \u001b[0mi\u001b[0m\u001b[1;33m]\u001b[0m \u001b[1;33m=\u001b[0m \u001b[0mmath\u001b[0m\u001b[1;33m.\u001b[0m\u001b[0msqrt\u001b[0m\u001b[1;33m(\u001b[0m\u001b[1;33m(\u001b[0m\u001b[0mnodes\u001b[0m\u001b[1;33m[\u001b[0m\u001b[0mdepotID\u001b[0m\u001b[1;33m]\u001b[0m\u001b[1;33m[\u001b[0m\u001b[1;36m0\u001b[0m\u001b[1;33m]\u001b[0m \u001b[1;33m-\u001b[0m \u001b[0mnodes\u001b[0m\u001b[1;33m[\u001b[0m\u001b[0mi\u001b[0m\u001b[1;33m]\u001b[0m\u001b[1;33m[\u001b[0m\u001b[1;36m0\u001b[0m\u001b[1;33m]\u001b[0m\u001b[1;33m)\u001b[0m \u001b[1;33m**\u001b[0m \u001b[1;36m2\u001b[0m \u001b[1;33m+\u001b[0m \u001b[1;33m(\u001b[0m\u001b[0mnodes\u001b[0m\u001b[1;33m[\u001b[0m\u001b[0mdepotID\u001b[0m\u001b[1;33m]\u001b[0m\u001b[1;33m[\u001b[0m\u001b[1;36m1\u001b[0m\u001b[1;33m]\u001b[0m \u001b[1;33m-\u001b[0m \u001b[0mnodes\u001b[0m\u001b[1;33m[\u001b[0m\u001b[0mi\u001b[0m\u001b[1;33m]\u001b[0m\u001b[1;33m[\u001b[0m\u001b[1;36m1\u001b[0m\u001b[1;33m]\u001b[0m\u001b[1;33m)\u001b[0m \u001b[1;33m**\u001b[0m \u001b[1;36m2\u001b[0m\u001b[1;33m)\u001b[0m\u001b[1;33m\u001b[0m\u001b[1;33m\u001b[0m\u001b[0m\n\u001b[0m\u001b[0;32m     94\u001b[0m                 \u001b[0medges\u001b[0m\u001b[1;33m[\u001b[0m\u001b[0mi\u001b[0m\u001b[1;33m,\u001b[0m \u001b[0mdepotID\u001b[0m\u001b[1;33m]\u001b[0m \u001b[1;33m=\u001b[0m \u001b[0mmath\u001b[0m\u001b[1;33m.\u001b[0m\u001b[0msqrt\u001b[0m\u001b[1;33m(\u001b[0m\u001b[1;33m(\u001b[0m\u001b[0mnodes\u001b[0m\u001b[1;33m[\u001b[0m\u001b[0mi\u001b[0m\u001b[1;33m]\u001b[0m\u001b[1;33m[\u001b[0m\u001b[1;36m0\u001b[0m\u001b[1;33m]\u001b[0m \u001b[1;33m-\u001b[0m \u001b[0mnodes\u001b[0m\u001b[1;33m[\u001b[0m\u001b[0mdepotID\u001b[0m\u001b[1;33m]\u001b[0m\u001b[1;33m[\u001b[0m\u001b[1;36m0\u001b[0m\u001b[1;33m]\u001b[0m\u001b[1;33m)\u001b[0m \u001b[1;33m**\u001b[0m \u001b[1;36m2\u001b[0m \u001b[1;33m+\u001b[0m \u001b[1;33m(\u001b[0m\u001b[0mnodes\u001b[0m\u001b[1;33m[\u001b[0m\u001b[0mi\u001b[0m\u001b[1;33m]\u001b[0m\u001b[1;33m[\u001b[0m\u001b[1;36m1\u001b[0m\u001b[1;33m]\u001b[0m \u001b[1;33m-\u001b[0m \u001b[0mnodes\u001b[0m\u001b[1;33m[\u001b[0m\u001b[0mdepotID\u001b[0m\u001b[1;33m]\u001b[0m\u001b[1;33m[\u001b[0m\u001b[1;36m1\u001b[0m\u001b[1;33m]\u001b[0m\u001b[1;33m)\u001b[0m \u001b[1;33m**\u001b[0m \u001b[1;36m2\u001b[0m\u001b[1;33m)\u001b[0m\u001b[1;33m\u001b[0m\u001b[1;33m\u001b[0m\u001b[0m\n\u001b[0;32m     95\u001b[0m         \u001b[1;32melse\u001b[0m\u001b[1;33m:\u001b[0m\u001b[1;33m\u001b[0m\u001b[1;33m\u001b[0m\u001b[0m\n",
      "\u001b[1;31mKeyError\u001b[0m: 0"
     ]
    }
   ],
   "source": [
    "VRPTW.CVRPTW(\n",
    "    nodes = instance['nodes'],\n",
    "    depotID = 0,\n",
    "    vehCap = instance['vehCap'],\n",
    "    vehNum = instance['vehNum'])"
   ]
  },
  {
   "cell_type": "code",
   "execution_count": null,
   "metadata": {},
   "outputs": [],
   "source": []
  }
 ],
 "metadata": {
  "kernelspec": {
   "display_name": "Python 3",
   "language": "python",
   "name": "python3"
  },
  "language_info": {
   "codemirror_mode": {
    "name": "ipython",
    "version": 3
   },
   "file_extension": ".py",
   "mimetype": "text/x-python",
   "name": "python",
   "nbconvert_exporter": "python",
   "pygments_lexer": "ipython3",
   "version": "3.7.2"
  }
 },
 "nbformat": 4,
 "nbformat_minor": 2
}
